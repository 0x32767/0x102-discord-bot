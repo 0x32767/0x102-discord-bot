{
 "cells": [
  {
   "cell_type": "code",
   "execution_count": 18,
   "metadata": {},
   "outputs": [],
   "source": [
    "import matplotlib.pyplot as plt\n",
    "import matplotlib as mpl\n",
    "from random import randint"
   ]
  },
  {
   "cell_type": "code",
   "execution_count": 16,
   "metadata": {},
   "outputs": [],
   "source": [
    "# for non spam\n",
    "\n",
    "# average time required to send a message out of 50\n",
    "s_av_time = [1, 2, 3, 4, 5]\n",
    "\n",
    "# the length of the message\n",
    "s_length = [1, 4, 9, 16, 25]\n",
    "\n",
    "# for spam\n",
    "ns_av_time = [1, 2, 3, 4, 5]\n",
    "ns_length = [0, 2, 5, 19, 20]\n",
    "\n",
    "# plt.scatter(s_length, s_av_time)"
   ]
  },
  {
   "cell_type": "code",
   "execution_count": 15,
   "metadata": {},
   "outputs": [],
   "source": [
    "def classify(nx, ny) -> bool:\n",
    "    non_spam = zip(ns_av_time, ns_length)\n",
    "    spam = zip(s_av_time, s_length)\n",
    "\n",
    "    n_dist, n_count = get_distance(nx, ny, non_spam)\n",
    "    s_dist, s_count = get_distance(nx, ny, spam)\n",
    "\n",
    "    # true if spam\n",
    "    # false if non-spam\n",
    "\n",
    "    return n_dist < s_dist\n",
    "\n",
    "\n",
    "def get_distance(nx, ny, arr) -> float:\n",
    "    \"\"\"\n",
    "    This function returns the distance between a point and the nearest point in the array.\n",
    "    \"\"\"\n",
    "    inDistance = []\n",
    "    for x, y in arr:\n",
    "        if (d := hypotinuse(nx-x, ny-y)) >= 5:\n",
    "            inDistance.append(d)\n",
    "\n",
    "    return sum(inDistance) / len(inDistance), len(inDistance)\n",
    "\n",
    "\n",
    "def hypotinuse(x, y) -> float:\n",
    "    return ((x ** 2) + (y ** 2)) ** 0.5\n"
   ]
  },
  {
   "cell_type": "code",
   "execution_count": 14,
   "metadata": {},
   "outputs": [],
   "source": [
    "def build_graph() -> None:\n",
    "    \"\"\"\n",
    "    This function builds a graph of the points in the array.\n",
    "    \"\"\"\n",
    "\n",
    "    for _ in range(5):\n",
    "        x = randint(0, 100)\n",
    "        y = randint(0, 100)\n",
    "\n",
    "        if classify(x, y):\n",
    "            s_av_time.append(x)\n",
    "            s_length.append(y)\n",
    "\n",
    "        else:\n",
    "            ns_av_time.append(x)\n",
    "            ns_length.append(y)\n"
   ]
  },
  {
   "cell_type": "code",
   "execution_count": null,
   "metadata": {},
   "outputs": [],
   "source": [
    "\n",
    "for _ in range(50):\n",
    "    build_graph()\n",
    "\n",
    "    plt.scatter(s_length, s_av_time)\n",
    "    plt.scatter(ns_length, ns_av_time)\n"
   ]
  }
 ],
 "metadata": {
  "kernelspec": {
   "display_name": "Python 3.10.5 64-bit",
   "language": "python",
   "name": "python3"
  },
  "language_info": {
   "codemirror_mode": {
    "name": "ipython",
    "version": 3
   },
   "file_extension": ".py",
   "mimetype": "text/x-python",
   "name": "python",
   "nbconvert_exporter": "python",
   "pygments_lexer": "ipython3",
   "version": "3.10.5"
  },
  "orig_nbformat": 4,
  "vscode": {
   "interpreter": {
    "hash": "8d6914b5b74b1ea45637371fc5cb8d0ec867d3feb63aafe5ecc9e82b7fc26242"
   }
  }
 },
 "nbformat": 4,
 "nbformat_minor": 2
}
