{
 "cells": [
  {
   "cell_type": "code",
   "execution_count": 22,
   "metadata": {},
   "outputs": [],
   "source": [
    "import matplotlib.pyplot as plt\n",
    "import matplotlib as mpl\n",
    "from random import randint"
   ]
  },
  {
   "cell_type": "code",
   "execution_count": 23,
   "metadata": {},
   "outputs": [
    {
     "data": {
      "text/plain": [
       "<matplotlib.collections.PathCollection at 0x2381d1e0b50>"
      ]
     },
     "execution_count": 23,
     "metadata": {},
     "output_type": "execute_result"
    },
    {
     "data": {
      "text/plain": [
       "<Figure size 432x288 with 1 Axes>"
      ]
     },
     "metadata": {
      "needs_background": "light"
     },
     "output_type": "display_data"
    }
   ],
   "source": [
    "# for non spam\n",
    "\n",
    "# average time required to send a message out of 50\n",
    "s_av_time = [.1, .1, 5, .6, .1, .1, 1, .2, .1, .3]\n",
    "s_length = [1, 2, 4, 1, 5, 2, 1, 3, 2, 1]\n",
    "\n",
    "# for spam\n",
    "ns_av_time = [5, 1, 4, 2, 3, 1, 5, 2, 1, 4]\n",
    "ns_length = [10, 15, 16, 12, 5, 2, 1, 5, 2, 5]\n",
    "\n",
    "plt.scatter(s_length, s_av_time)\n",
    "plt.scatter(ns_length, ns_av_time)"
   ]
  },
  {
   "cell_type": "code",
   "execution_count": 24,
   "metadata": {},
   "outputs": [],
   "source": [
    "def classify(nx, ny) -> bool:\n",
    "    non_spam = zip(ns_av_time, ns_length)\n",
    "    spam = zip(s_av_time, s_length)\n",
    "\n",
    "    n_dist, n_count = get_distance(nx, ny, non_spam)\n",
    "    s_dist, s_count = get_distance(nx, ny, spam)\n",
    "\n",
    "    # true if spam\n",
    "    # false if non-spam\n",
    "\n",
    "    return n_dist < s_dist\n",
    "\n",
    "\n",
    "def get_distance(nx, ny, arr) -> float:\n",
    "    \"\"\"\n",
    "    This function returns the distance between a point and the nearest point in the array.\n",
    "    \"\"\"\n",
    "    inDistance = []\n",
    "    for x, y in arr:\n",
    "        if (d := hypotenuse(nx-x, ny-y)) >= 5:\n",
    "            inDistance.append(d)\n",
    "\n",
    "    return sum(inDistance) / len(inDistance), len(inDistance)\n",
    "\n",
    "\n",
    "def hypotenuse(x, y) -> float:\n",
    "    return ((x ** 2) + (y ** 2)) ** 0.5\n"
   ]
  },
  {
   "cell_type": "code",
   "execution_count": 25,
   "metadata": {},
   "outputs": [],
   "source": [
    "def build_graph() -> None:\n",
    "    \"\"\"\n",
    "    This function builds a graph of the points in the array.\n",
    "    \"\"\"\n",
    "\n",
    "    for _ in range(5):\n",
    "        x = randint(0, 100)\n",
    "        y = randint(0, 100)\n",
    "\n",
    "        if classify(x, y):\n",
    "            s_av_time.append(x)\n",
    "            s_length.append(y)\n",
    "\n",
    "        else:\n",
    "            ns_av_time.append(x)\n",
    "            ns_length.append(y)\n"
   ]
  },
  {
   "cell_type": "code",
   "execution_count": 30,
   "metadata": {},
   "outputs": [
    {
     "data": {
      "text/plain": [
       "<Figure size 432x288 with 1 Axes>"
      ]
     },
     "metadata": {
      "needs_background": "light"
     },
     "output_type": "display_data"
    }
   ],
   "source": [
    "\n",
    "for _ in range(50):\n",
    "    build_graph()\n",
    "\n",
    "    plt.scatter(s_length, s_av_time)\n",
    "    plt.scatter(ns_length, ns_av_time)\n"
   ]
  },
  {
   "cell_type": "code",
   "execution_count": 31,
   "metadata": {},
   "outputs": [],
   "source": [
    "import pickle\n",
    "\n",
    "with open(\".\\\\data.pickle\", \"wb\") as f:\n",
    "    pickle.dump(\n",
    "        {\n",
    "            \"spam\": {\"length\": s_length, \"time\": s_av_time},\n",
    "            \"normal\": {\"length\": ns_length, \"time\": ns_av_time}\n",
    "        },\n",
    "        f\n",
    "    )\n"
   ]
  }
 ],
 "metadata": {
  "kernelspec": {
   "display_name": "Python 3.10.5 64-bit",
   "language": "python",
   "name": "python3"
  },
  "language_info": {
   "codemirror_mode": {
    "name": "ipython",
    "version": 3
   },
   "file_extension": ".py",
   "mimetype": "text/x-python",
   "name": "python",
   "nbconvert_exporter": "python",
   "pygments_lexer": "ipython3",
   "version": "3.10.6"
  },
  "orig_nbformat": 4,
  "vscode": {
   "interpreter": {
    "hash": "8d6914b5b74b1ea45637371fc5cb8d0ec867d3feb63aafe5ecc9e82b7fc26242"
   }
  }
 },
 "nbformat": 4,
 "nbformat_minor": 2
}
